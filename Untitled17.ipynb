{
 "cells": [
  {
   "cell_type": "code",
   "execution_count": 1,
   "id": "088b774b",
   "metadata": {},
   "outputs": [
    {
     "name": "stdout",
     "output_type": "stream",
     "text": [
      " * * \n",
      "*   *\n",
      "*   *\n",
      "*   *\n",
      " * * *\n"
     ]
    }
   ],
   "source": [
    "x=1\n",
    "while(x<=5):\n",
    "    if(x==2) or (x==3) or (x==4):\n",
    "        print(\"*   *\")\n",
    "    elif(x==1):\n",
    "        print(\" * * \")\n",
    "    else:\n",
    "        print(\" * * *\")\n",
    "    x=x+1"
   ]
  },
  {
   "cell_type": "code",
   "execution_count": 2,
   "id": "1ed43d81",
   "metadata": {},
   "outputs": [
    {
     "name": "stdout",
     "output_type": "stream",
     "text": [
      "*\n",
      "*\n",
      "*\n",
      "* * *\n",
      "*   *\n",
      "* * *\n"
     ]
    }
   ],
   "source": [
    "x=1\n",
    "while(x<=6):\n",
    "    if(x==1) or (x==2) or (x==3):\n",
    "        print(\"*\")\n",
    "    elif(x==4) or (x==6):\n",
    "        print(\"* * *\")\n",
    "    else:\n",
    "        print(\"*   *\")\n",
    "    x=x+1"
   ]
  },
  {
   "cell_type": "code",
   "execution_count": 3,
   "id": "3a37f46e",
   "metadata": {},
   "outputs": [
    {
     "name": "stdout",
     "output_type": "stream",
     "text": [
      " ****\n",
      "*    \n",
      "*    \n",
      "*    \n",
      " ****\n"
     ]
    }
   ],
   "source": [
    "x=1\n",
    "while(x<=5):\n",
    "    if(x==1) or (x==5):\n",
    "        print(\" ****\")\n",
    "    else:\n",
    "        print(\"*    \")\n",
    "    x=x+1"
   ]
  },
  {
   "cell_type": "code",
   "execution_count": 4,
   "id": "7f0bc452",
   "metadata": {},
   "outputs": [
    {
     "name": "stdout",
     "output_type": "stream",
     "text": [
      "    *\n",
      "    *\n",
      "    *\n",
      "* * *\n",
      "*   *\n",
      "* * *\n"
     ]
    }
   ],
   "source": [
    "x=1\n",
    "while(x<=6):\n",
    "    if(x==1) or (x==2) or (x==3):\n",
    "        print(\"    *\")\n",
    "    elif(x==4) or (x==6):\n",
    "        print(\"* * *\")\n",
    "    else:\n",
    "        print(\"*   *\")\n",
    "    x=x+1\n"
   ]
  },
  {
   "cell_type": "code",
   "execution_count": 5,
   "id": "9d45b01f",
   "metadata": {},
   "outputs": [
    {
     "name": "stdout",
     "output_type": "stream",
     "text": [
      " ***\n",
      "*   *\n",
      "* ***\n",
      "*\n",
      " ****\n"
     ]
    }
   ],
   "source": [
    "x=1\n",
    "while(x<=5):\n",
    "    if(x==1):\n",
    "        print(\" ***\")\n",
    "    elif(x==2):\n",
    "        print(\"*   *\")\n",
    "    elif(x==3):\n",
    "        print(\"* ***\")\n",
    "    elif(x==4):\n",
    "        print(\"*\")\n",
    "    else:\n",
    "        print(\" ****\")\n",
    "    x=x+1"
   ]
  },
  {
   "cell_type": "code",
   "execution_count": 6,
   "id": "6020b835",
   "metadata": {},
   "outputs": [
    {
     "name": "stdout",
     "output_type": "stream",
     "text": [
      "  ***\n",
      "  * *\n",
      "  *\n",
      "*****\n",
      "  *\n",
      "  *\n"
     ]
    }
   ],
   "source": [
    "x=1\n",
    "while(x<=6):\n",
    "    if(x==1):\n",
    "        print(\"  ***\")\n",
    "    elif(x==2):\n",
    "        print(\"  * *\")\n",
    "    elif(x==4):\n",
    "        print(\"*****\")\n",
    "    else:\n",
    "        print(\"  *\")\n",
    "    x=x+1"
   ]
  },
  {
   "cell_type": "code",
   "execution_count": 7,
   "id": "cd610503",
   "metadata": {},
   "outputs": [
    {
     "name": "stdout",
     "output_type": "stream",
     "text": [
      "* * *\n",
      "*   *  *\n",
      "* * * *\n",
      "    *\n",
      " *  *\n",
      "*   *\n",
      "* * *\n"
     ]
    }
   ],
   "source": [
    "x=1\n",
    "while(x<=7):\n",
    "    if(x==1) or (x==7):\n",
    "        print(\"* * *\")\n",
    "    elif (x==6):\n",
    "        print(\"*   *\")\n",
    "    elif (x==2):\n",
    "        print(\"*   *  *\")\n",
    "    elif(x==3):\n",
    "        print(\"* * * *\")\n",
    "    elif(x==4):\n",
    "        print(\"    *\")\n",
    "    else:\n",
    "        print(\" *  *\")\n",
    "    x=x+1"
   ]
  },
  {
   "cell_type": "code",
   "execution_count": 8,
   "id": "e92d80fd",
   "metadata": {},
   "outputs": [
    {
     "name": "stdout",
     "output_type": "stream",
     "text": [
      "*\n",
      "*\n",
      "*\n",
      "* * *\n",
      "*   *\n",
      "*   *\n"
     ]
    }
   ],
   "source": [
    "x=1\n",
    "while(x<=6):\n",
    "    if(x==1) or (x==2) or (x==3):\n",
    "        print(\"*\")\n",
    "    elif(x==4) :\n",
    "        print(\"* * *\")\n",
    "    else:\n",
    "        print(\"*   *\")\n",
    "    x=x+1\n"
   ]
  },
  {
   "cell_type": "code",
   "execution_count": 9,
   "id": "7fd9f9c8",
   "metadata": {},
   "outputs": [
    {
     "name": "stdout",
     "output_type": "stream",
     "text": [
      "   *\n",
      " \n",
      "   *\n",
      "   *\n",
      "   *\n",
      "   *\n"
     ]
    }
   ],
   "source": [
    "x=1\n",
    "while (x<=5):\n",
    "    if(x==2):\n",
    "        print(\" \")\n",
    "    print(\"   *\")\n",
    "    x=x+1\n"
   ]
  },
  {
   "cell_type": "code",
   "execution_count": 10,
   "id": "a0e20129",
   "metadata": {},
   "outputs": [
    {
     "name": "stdout",
     "output_type": "stream",
     "text": [
      "  *  \n",
      "  *  \n",
      "  *  \n",
      "* *\n",
      "***\n"
     ]
    }
   ],
   "source": [
    "x=1\n",
    "while(x<=5):\n",
    "\n",
    "    if(x==1) or (x==2) or (x==3):\n",
    "        print(\"  *  \")\n",
    "    elif(x==4):\n",
    "        print(\"* *\")\n",
    "    else:\n",
    "        print(\"***\")\n",
    "    x=x+1"
   ]
  },
  {
   "cell_type": "code",
   "execution_count": 11,
   "id": "ea78be44",
   "metadata": {},
   "outputs": [
    {
     "name": "stdout",
     "output_type": "stream",
     "text": [
      "*\n",
      "*\n",
      "*   *\n",
      "* *\n",
      "*\n",
      "* *\n",
      "*   *\n"
     ]
    }
   ],
   "source": [
    "x=1\n",
    "while(x<=7):\n",
    "    if(x==3) or (x==7):\n",
    "        print(\"*   *\")\n",
    "    elif(x==4) or (x==6):\n",
    "        print(\"* *\")\n",
    "    else:\n",
    "        print(\"*\")\n",
    "    x=x+1"
   ]
  },
  {
   "cell_type": "code",
   "execution_count": 12,
   "id": "6ee09fd1",
   "metadata": {},
   "outputs": [
    {
     "name": "stdout",
     "output_type": "stream",
     "text": [
      "   *\n",
      "   *\n",
      "   *\n",
      "   *\n",
      "   *\n"
     ]
    }
   ],
   "source": [
    "x=1\n",
    "while (x<=5):\n",
    "    print(\"   *\")\n",
    "    x=x+1"
   ]
  },
  {
   "cell_type": "code",
   "execution_count": 14,
   "id": "180f8875",
   "metadata": {},
   "outputs": [
    {
     "name": "stdout",
     "output_type": "stream",
     "text": [
      "*  *   * \n",
      " *   *   *\n",
      " *   *   *\n",
      " *   *   *\n",
      " *   *   *\n"
     ]
    }
   ],
   "source": [
    "x=1\n",
    "while (x<=5):\n",
    "    if(x==1):\n",
    "        print(\"*  *   * \")\n",
    "    else:\n",
    "        print(\" *   *   *\")\n",
    "    x=x+1"
   ]
  },
  {
   "cell_type": "code",
   "execution_count": 15,
   "id": "6b7daf79",
   "metadata": {},
   "outputs": [
    {
     "name": "stdout",
     "output_type": "stream",
     "text": [
      "*  * *\n",
      " *     *\n",
      " *     *\n",
      " *     *\n",
      " *     *\n"
     ]
    }
   ],
   "source": [
    "x=1\n",
    "while (x<=5):\n",
    "    if(x==1):\n",
    "        print(\"*  * *\")\n",
    "    else:\n",
    "        print(\" *     *\")\n",
    "    x=x+1"
   ]
  },
  {
   "cell_type": "code",
   "execution_count": 16,
   "id": "6f3a7626",
   "metadata": {},
   "outputs": [
    {
     "name": "stdout",
     "output_type": "stream",
     "text": [
      " ***\n",
      "*   *\n",
      "*   *\n",
      "*   *\n",
      " ***\n"
     ]
    }
   ],
   "source": [
    "x=1\n",
    "while(x<=5):\n",
    "    if(x==1) or (x==5) :\n",
    "        print(\" ***\")\n",
    "    else:\n",
    "        print(\"*   *\")\n",
    "    x=x+1\n"
   ]
  },
  {
   "cell_type": "code",
   "execution_count": 17,
   "id": "43452a33",
   "metadata": {},
   "outputs": [
    {
     "name": "stdout",
     "output_type": "stream",
     "text": [
      "****\n",
      "*   *\n",
      "*   *\n",
      "****\n",
      "*\n",
      "*\n",
      "*\n"
     ]
    }
   ],
   "source": [
    "x=1\n",
    "while(x<=7):\n",
    "    if(x==1) or (x==4):\n",
    "        print(\"****\")\n",
    "    elif(x==2)or (x==3) :\n",
    "        print(\"*   *\")\n",
    "    else:\n",
    "        print(\"*\")\n",
    "    x=x+1"
   ]
  },
  {
   "cell_type": "code",
   "execution_count": 18,
   "id": "c8e0949b",
   "metadata": {},
   "outputs": [
    {
     "name": "stdout",
     "output_type": "stream",
     "text": [
      " ****\n",
      "*   *\n",
      "*   *\n",
      " ****\n",
      "    *  *\n",
      "    * *\n",
      "    *\n"
     ]
    }
   ],
   "source": [
    "x=1\n",
    "while(x<=7):\n",
    "    if(x==1) or (x==4):\n",
    "        print(\" ****\")\n",
    "    elif(x==2)or (x==3) :\n",
    "        print(\"*   *\")\n",
    "    elif (x==5):\n",
    "        print(\"    *  *\")\n",
    "    elif (x==6):\n",
    "        print(\"    * *\")\n",
    "    else:\n",
    "        print(\"    *\")\n",
    "    x=x+1"
   ]
  },
  {
   "cell_type": "code",
   "execution_count": 19,
   "id": "90eafac2",
   "metadata": {},
   "outputs": [
    {
     "name": "stdout",
     "output_type": "stream",
     "text": [
      "*   *\n",
      "*  *\n",
      "* *\n",
      "*\n",
      "*\n",
      "*\n"
     ]
    }
   ],
   "source": [
    "x=1\n",
    "while(x<=6):\n",
    "    if(x==1):\n",
    "        print(\"*   *\")\n",
    "    elif(x==2):\n",
    "        print(\"*  *\")\n",
    "    elif(x==3):\n",
    "        print(\"* *\")\n",
    "    else:\n",
    "        print(\"*\")\n",
    "    x=x+1\n"
   ]
  },
  {
   "cell_type": "code",
   "execution_count": 20,
   "id": "9c97b3c1",
   "metadata": {},
   "outputs": [
    {
     "name": "stdout",
     "output_type": "stream",
     "text": [
      " **** \n",
      "* \n",
      " **** \n",
      "     * \n",
      " **** \n"
     ]
    }
   ],
   "source": [
    "x=1\n",
    "while(x<=5):\n",
    "    if(x==1) or (x==5) or (x==3):\n",
    "        print(\" **** \")\n",
    "    elif(x==4):\n",
    "        print(\"     * \")\n",
    "    else:\n",
    "        print(\"* \")\n",
    "    x=x+1\n"
   ]
  },
  {
   "cell_type": "code",
   "execution_count": 21,
   "id": "328076db",
   "metadata": {},
   "outputs": [
    {
     "name": "stdout",
     "output_type": "stream",
     "text": [
      "  *\n",
      "  *\n",
      "*****\n",
      "  *\n",
      "  ***\n"
     ]
    }
   ],
   "source": [
    "x=1\n",
    "while(x<=5):\n",
    "    if(x==5):\n",
    "        print(\"  ***\")\n",
    "    elif(x==3):\n",
    "        print(\"*****\")\n",
    "    else:\n",
    "        print(\"  *\")\n",
    "    x=x+1"
   ]
  },
  {
   "cell_type": "code",
   "execution_count": 22,
   "id": "d2b09518",
   "metadata": {},
   "outputs": [
    {
     "name": "stdout",
     "output_type": "stream",
     "text": [
      "*   *\n",
      "*   *\n",
      "*   *\n",
      "*   *\n",
      " *** *\n"
     ]
    }
   ],
   "source": [
    "x=1\n",
    "while(x<=5):\n",
    "    if (x==5) :\n",
    "        print(\" *** *\")\n",
    "    else:\n",
    "        print(\"*   *\")\n",
    "    x=x+1\n"
   ]
  },
  {
   "cell_type": "code",
   "execution_count": 23,
   "id": "61133d39",
   "metadata": {},
   "outputs": [
    {
     "name": "stdout",
     "output_type": "stream",
     "text": [
      "*       *\n",
      " *     * \n",
      "  *   * \n",
      "   * * \n",
      "    *\n"
     ]
    }
   ],
   "source": [
    "x=1\n",
    "while(x<=5):\n",
    "    if (x==1) :\n",
    "        print(\"*       *\")\n",
    "    elif(x==2):\n",
    "        print(\" *     * \")\n",
    "    elif(x==3):\n",
    "        print(\"  *   * \")\n",
    "    elif(x==4):\n",
    "        print(\"   * * \")\n",
    "    else:\n",
    "        print(\"    *\")\n",
    "    x=x+1"
   ]
  },
  {
   "cell_type": "code",
   "execution_count": 24,
   "id": "87477ac7",
   "metadata": {},
   "outputs": [
    {
     "name": "stdout",
     "output_type": "stream",
     "text": [
      "*   *   *\n",
      "*   *   *\n",
      "*   *   *\n",
      "*   *   *\n",
      "  *   *  *\n"
     ]
    }
   ],
   "source": [
    "x=1\n",
    "while (x<=5):\n",
    "    if(x==5):\n",
    "        print(\"  *   *  *\")\n",
    "    else:\n",
    "        print(\"*   *   *\")\n",
    "    x=x+1\n"
   ]
  },
  {
   "cell_type": "code",
   "execution_count": 25,
   "id": "1a343108",
   "metadata": {},
   "outputs": [
    {
     "name": "stdout",
     "output_type": "stream",
     "text": [
      "*   *\n",
      " * * \n",
      "  *\n",
      " * * \n",
      "*   *\n"
     ]
    }
   ],
   "source": [
    "x=1\n",
    "while(x<=5):\n",
    "    if(x==1) or (x==5):\n",
    "        print(\"*   *\")\n",
    "    elif(x==2) or (x==4):\n",
    "        print(\" * * \")\n",
    "    else:\n",
    "        print(\"  *\")\n",
    "    x=x+1\n"
   ]
  },
  {
   "cell_type": "code",
   "execution_count": 26,
   "id": "9ba8ac89",
   "metadata": {},
   "outputs": [
    {
     "name": "stdout",
     "output_type": "stream",
     "text": [
      "*   *\n",
      "*   *  *\n",
      "* * * *\n",
      "    *\n",
      " *  *\n",
      "*   *\n",
      "* * *\n"
     ]
    }
   ],
   "source": [
    "x=1\n",
    "while(x<=7):\n",
    "    if(x==1) :\n",
    "        print(\"*   *\")\n",
    "    elif (x==6):\n",
    "        print(\"*   *\")\n",
    "    elif (x==2):\n",
    "        print(\"*   *  *\")\n",
    "    elif(x==3):\n",
    "        print(\"* * * *\")\n",
    "    elif(x==4):\n",
    "        print(\"    *\")\n",
    "    elif(x==7):\n",
    "        print(\"* * *\")\n",
    "    else:\n",
    "        print(\" *  *\")\n",
    "    x=x+1"
   ]
  },
  {
   "cell_type": "code",
   "execution_count": 27,
   "id": "5a14bc01",
   "metadata": {},
   "outputs": [
    {
     "name": "stdout",
     "output_type": "stream",
     "text": [
      "*****\n",
      "   * \n",
      "  *\n",
      " *\n",
      "*****\n"
     ]
    }
   ],
   "source": [
    "x=1\n",
    "while(x<=5):\n",
    "    if(x==1) or (x==5) :\n",
    "        print(\"*****\")\n",
    "    elif(x==2) :\n",
    "        print(\"   * \")\n",
    "    elif(x==3):\n",
    "        print(\"  *\")\n",
    "    else:\n",
    "        print(\" *\")\n",
    "    x=x+1"
   ]
  },
  {
   "cell_type": "code",
   "execution_count": null,
   "id": "5569b079",
   "metadata": {},
   "outputs": [],
   "source": []
  }
 ],
 "metadata": {
  "kernelspec": {
   "display_name": "Python 3 (ipykernel)",
   "language": "python",
   "name": "python3"
  },
  "language_info": {
   "codemirror_mode": {
    "name": "ipython",
    "version": 3
   },
   "file_extension": ".py",
   "mimetype": "text/x-python",
   "name": "python",
   "nbconvert_exporter": "python",
   "pygments_lexer": "ipython3",
   "version": "3.9.13"
  }
 },
 "nbformat": 4,
 "nbformat_minor": 5
}
