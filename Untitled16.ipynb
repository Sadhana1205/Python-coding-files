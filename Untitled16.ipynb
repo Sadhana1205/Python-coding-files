{
 "cells": [
  {
   "cell_type": "code",
   "execution_count": 10,
   "id": "e13cae99",
   "metadata": {},
   "outputs": [
    {
     "name": "stdout",
     "output_type": "stream",
     "text": [
      " ***** \n",
      "*     *\n",
      "*  *  *\n",
      "*     *\n",
      "*     *\n"
     ]
    }
   ],
   "source": [
    "x=1\n",
    "while x<=5:\n",
    "    if x==1:\n",
    "        print(\" ***** \")\n",
    "    elif x==2 or x==4 or x==5 :\n",
    "        print(\"*     *\")\n",
    "    else:\n",
    "        print(\"*  *  *\")\n",
    "    x=x+1\n",
    "            "
   ]
  },
  {
   "cell_type": "code",
   "execution_count": 11,
   "id": "e04b31c9",
   "metadata": {},
   "outputs": [
    {
     "name": "stdout",
     "output_type": "stream",
     "text": [
      "****\n",
      "*   *\n",
      "****\n",
      "*   *\n",
      "****\n"
     ]
    }
   ],
   "source": [
    "x=1\n",
    "while x<=5:\n",
    "    if x==1 or x==5:\n",
    "        print(\"****\")\n",
    "    elif x==2 or x==4 or x==5:\n",
    "        print(\"*   *\")\n",
    "    else:\n",
    "        print(\"****\")\n",
    "    x=x+1"
   ]
  },
  {
   "cell_type": "code",
   "execution_count": 23,
   "id": "3ed40b30",
   "metadata": {},
   "outputs": [
    {
     "name": "stdout",
     "output_type": "stream",
     "text": [
      "*****\n",
      "*     \n",
      "*     \n",
      "*     \n",
      "*****\n"
     ]
    }
   ],
   "source": [
    "x=1\n",
    "while x<=5:\n",
    "    if x==1 or x==5:\n",
    "        print(\"*****\")\n",
    "    else:\n",
    "        print(\"*     \")\n",
    "    x=x+1"
   ]
  },
  {
   "cell_type": "code",
   "execution_count": 32,
   "id": "d9ce7a5a",
   "metadata": {},
   "outputs": [
    {
     "name": "stdout",
     "output_type": "stream",
     "text": [
      "****\n",
      "*    *\n",
      "*    *\n",
      "*    *\n",
      "****\n"
     ]
    }
   ],
   "source": [
    "x=1\n",
    "while x<=5:\n",
    "    if x==1 or x==5:\n",
    "        print(\"****\")\n",
    "    else:\n",
    "        print(\"*    *\")\n",
    "    x=x+1\n",
    "    "
   ]
  },
  {
   "cell_type": "code",
   "execution_count": 34,
   "id": "5826cf97",
   "metadata": {},
   "outputs": [
    {
     "name": "stdout",
     "output_type": "stream",
     "text": [
      "****\n",
      "*\n",
      "****\n",
      "*\n",
      "****\n"
     ]
    }
   ],
   "source": [
    "x=1\n",
    "while x<=5:\n",
    "    if x==1 or x==5 or x==3:\n",
    "        print(\"****\")\n",
    "    else:\n",
    "        print(\"*\")\n",
    "    x=x+1"
   ]
  },
  {
   "cell_type": "code",
   "execution_count": 35,
   "id": "f1b433db",
   "metadata": {},
   "outputs": [
    {
     "name": "stdout",
     "output_type": "stream",
     "text": [
      "****\n",
      "*\n",
      "****\n",
      "*\n",
      "*\n"
     ]
    }
   ],
   "source": [
    "x=1\n",
    "while x<=5:\n",
    "    if x==1 or x==3:\n",
    "        print(\"****\")\n",
    "    else:\n",
    "        print(\"*\")\n",
    "    x=x+1"
   ]
  },
  {
   "cell_type": "code",
   "execution_count": 36,
   "id": "11b93ac5",
   "metadata": {},
   "outputs": [
    {
     "name": "stdout",
     "output_type": "stream",
     "text": [
      "****\n",
      "*    \n",
      "* ****\n",
      "*    *\n",
      "**** *\n",
      "     *\n"
     ]
    }
   ],
   "source": [
    "x=1\n",
    "while x<=6:\n",
    "    if x==1:\n",
    "        print (\"****\")\n",
    "    elif x==2:\n",
    "        print(\"*    \")\n",
    "    elif x==3:\n",
    "        print(\"* ****\")\n",
    "    elif x==4:\n",
    "        print(\"*    *\")\n",
    "    elif x==5:\n",
    "        print(\"**** *\")\n",
    "    else:\n",
    "        print(\"     *\")\n",
    "    x=x+1"
   ]
  },
  {
   "cell_type": "code",
   "execution_count": 40,
   "id": "3bdfd906",
   "metadata": {},
   "outputs": [
    {
     "name": "stdout",
     "output_type": "stream",
     "text": [
      "*    *\n",
      "*    *\n",
      "******\n",
      "*    *\n",
      "*    *\n"
     ]
    }
   ],
   "source": [
    "x=1\n",
    "while x<=5:\n",
    "    if x==3:\n",
    "        print(\"******\")\n",
    "    else:\n",
    "        print(\"*    *\")\n",
    "    x=x+1"
   ]
  },
  {
   "cell_type": "code",
   "execution_count": 42,
   "id": "f7accf89",
   "metadata": {},
   "outputs": [
    {
     "name": "stdout",
     "output_type": "stream",
     "text": [
      "*****\n",
      "  *  \n",
      "  *  \n",
      "* *\n",
      "***\n"
     ]
    }
   ],
   "source": [
    "x=1\n",
    "while x<=5:\n",
    "    if x==1:\n",
    "        print(\"*****\")\n",
    "    elif x==2 or x==3:\n",
    "        print(\"  *  \")\n",
    "    elif x==4:\n",
    "        print(\"* *\")\n",
    "    else:\n",
    "        print(\"***\")\n",
    "    x=x+1"
   ]
  },
  {
   "cell_type": "code",
   "execution_count": 43,
   "id": "e6672868",
   "metadata": {},
   "outputs": [
    {
     "name": "stdout",
     "output_type": "stream",
     "text": [
      "*   *\n",
      "* *\n",
      "*\n",
      "* *\n",
      "*   *\n"
     ]
    }
   ],
   "source": [
    "x=1\n",
    "while x<=5:\n",
    "    if x==1 or x==5:\n",
    "        print(\"*   *\")\n",
    "    elif x==2 or x==4:\n",
    "        print(\"* *\")\n",
    "    else:\n",
    "        print(\"*\")\n",
    "    x=x+1"
   ]
  },
  {
   "cell_type": "code",
   "execution_count": 44,
   "id": "f49bb033",
   "metadata": {},
   "outputs": [
    {
     "name": "stdout",
     "output_type": "stream",
     "text": [
      "*\n",
      "*\n",
      "*\n",
      "*\n",
      "****\n"
     ]
    }
   ],
   "source": [
    "x=1\n",
    "while x<=5:\n",
    "    if x==5:\n",
    "        print(\"****\")\n",
    "    else:\n",
    "        print(\"*\")\n",
    "    x=x+1"
   ]
  },
  {
   "cell_type": "code",
   "execution_count": 50,
   "id": "23c7dd44",
   "metadata": {},
   "outputs": [
    {
     "name": "stdout",
     "output_type": "stream",
     "text": [
      "*     *\n",
      "* * * *\n",
      "*  *  *\n",
      "*     *\n",
      "*     *\n"
     ]
    }
   ],
   "source": [
    "x=1\n",
    "while x<=5:\n",
    "    if x==1 or x==5 or x==4:\n",
    "        print(\"*     *\")\n",
    "    elif x==2:\n",
    "        print(\"* * * *\")\n",
    "    else:\n",
    "        print(\"*  *  *\")\n",
    "    x=x+1"
   ]
  },
  {
   "cell_type": "code",
   "execution_count": 57,
   "id": "b5da4612",
   "metadata": {},
   "outputs": [
    {
     "name": "stdout",
     "output_type": "stream",
     "text": [
      "*      *\n",
      "* *    *\n",
      "*  *   *\n",
      "*    * *\n",
      "*      *\n"
     ]
    }
   ],
   "source": [
    "x=1\n",
    "while x<=5:\n",
    "    if x==1 or x==5:\n",
    "        print(\"*      *\")\n",
    "    elif x==2:\n",
    "        print(\"* *    *\")\n",
    "    elif x==3:\n",
    "        print(\"*  *   *\")\n",
    "    else:\n",
    "        print(\"*    * *\")\n",
    "    x=x+1"
   ]
  },
  {
   "cell_type": "code",
   "execution_count": 58,
   "id": "bbbfeb40",
   "metadata": {},
   "outputs": [
    {
     "name": "stdout",
     "output_type": "stream",
     "text": [
      " ***\n",
      "*   *\n",
      "*   *\n",
      "*   *\n",
      " ***\n"
     ]
    }
   ],
   "source": [
    "x=1\n",
    "while x<=5:\n",
    "    if x==1 or x==5:\n",
    "        print(\" ***\")\n",
    "    else:\n",
    "        print(\"*   *\")\n",
    "    x=x+1"
   ]
  },
  {
   "cell_type": "code",
   "execution_count": 59,
   "id": "e95d8bbe",
   "metadata": {},
   "outputs": [
    {
     "name": "stdout",
     "output_type": "stream",
     "text": [
      "****\n",
      "*    *\n",
      "*    *\n",
      "****\n",
      "*\n",
      "*\n",
      "*\n"
     ]
    }
   ],
   "source": [
    "x=1\n",
    "while x<=7:\n",
    "    if x==1 or x==4:\n",
    "        print(\"****\")\n",
    "    elif x==2 or x==3:\n",
    "            print(\"*    *\")\n",
    "    else:\n",
    "            print(\"*\")\n",
    "    x=x+1"
   ]
  },
  {
   "cell_type": "code",
   "execution_count": 60,
   "id": "663267b8",
   "metadata": {},
   "outputs": [
    {
     "name": "stdout",
     "output_type": "stream",
     "text": [
      " ***\n",
      "*   *\n",
      "*   *\n",
      "*  \\*\n",
      " ***\\\n"
     ]
    }
   ],
   "source": [
    "x=1\n",
    "while x<=5:\n",
    "    if x==1:\n",
    "        print(\" ***\")\n",
    "    elif x==5:\n",
    "            print(\" ***\\\\\")\n",
    "    elif x==4:\n",
    "        print(\"*  \\\\*\")\n",
    "    else:\n",
    "        print(\"*   *\")\n",
    "    x=x+1"
   ]
  },
  {
   "cell_type": "code",
   "execution_count": 62,
   "id": "c5056b89",
   "metadata": {},
   "outputs": [
    {
     "name": "stdout",
     "output_type": "stream",
     "text": [
      "*****\n",
      "*    *\n",
      "*    *\n",
      "*****\n",
      "*  *\n",
      "*    *\n"
     ]
    }
   ],
   "source": [
    "x=1\n",
    "while x<=7:\n",
    "    if x==1 or x==4:\n",
    "        print(\"*****\")\n",
    "    elif x==2 or x==3:\n",
    "        print (\"*    *\")\n",
    "    elif x==5:\n",
    "        print(\"*  *\")\n",
    "    elif x==6:\n",
    "        print(\"*    *\")\n",
    "    x=x+1"
   ]
  },
  {
   "cell_type": "code",
   "execution_count": 64,
   "id": "34ece2d6",
   "metadata": {},
   "outputs": [
    {
     "name": "stdout",
     "output_type": "stream",
     "text": [
      "*****\n",
      "*\n",
      "*****\n",
      "    *\n",
      "*****\n"
     ]
    }
   ],
   "source": [
    "x=1\n",
    "while x<=5:\n",
    "    if x==1 or x==5 or x==3:\n",
    "        print(\"*****\")\n",
    "    elif x==4:\n",
    "        print(\"    *\")\n",
    "    else:\n",
    "        print(\"*\")\n",
    "    x=x+1"
   ]
  },
  {
   "cell_type": "code",
   "execution_count": 65,
   "id": "48a16dd5",
   "metadata": {},
   "outputs": [
    {
     "name": "stdout",
     "output_type": "stream",
     "text": [
      "*****\n",
      "  *  \n",
      "  *  \n",
      "  *  \n",
      "  *  \n"
     ]
    }
   ],
   "source": [
    "x=1\n",
    "while x<=5:\n",
    "    if x==1:\n",
    "        print(\"*****\")\n",
    "    else:\n",
    "        print(\"  *  \")\n",
    "    x=x+1"
   ]
  },
  {
   "cell_type": "code",
   "execution_count": 70,
   "id": "e2075db7",
   "metadata": {},
   "outputs": [
    {
     "name": "stdout",
     "output_type": "stream",
     "text": [
      "*   *\n",
      "*   *\n",
      "*   *\n",
      "*   *\n",
      "*****\n"
     ]
    }
   ],
   "source": [
    "x=1\n",
    "while x<=5:\n",
    "    if x==5:\n",
    "        print(\"*****\")\n",
    "    else:\n",
    "        print(\"*   *\")\n",
    "    x=x+1"
   ]
  },
  {
   "cell_type": "code",
   "execution_count": 91,
   "id": "1f7800b8",
   "metadata": {},
   "outputs": [
    {
     "name": "stdout",
     "output_type": "stream",
     "text": [
      "*        *\n",
      " *      * \n",
      "  *    * \n",
      "    * *   \n",
      "     *\n"
     ]
    }
   ],
   "source": [
    "x=1\n",
    "while x<=5:\n",
    "    if x==1:\n",
    "        print(\"*        *\")\n",
    "    elif x==2:\n",
    "        print(\" *      * \")\n",
    "    elif x==3:\n",
    "        print(\"  *    * \")\n",
    "    elif x==4:\n",
    "        print(\"    * *   \")\n",
    "    else:\n",
    "        print(\"     *\")\n",
    "    x=x+1"
   ]
  },
  {
   "cell_type": "code",
   "execution_count": 112,
   "id": "a3909b53",
   "metadata": {},
   "outputs": [
    {
     "name": "stdout",
     "output_type": "stream",
     "text": [
      "*       *        *\n",
      " *     *  *     * \n",
      "  *   *    *   * \n",
      "   * *      * *   \n",
      "    *        *    \n"
     ]
    }
   ],
   "source": [
    "x=1\n",
    "while x<=5:\n",
    "    if x==1:\n",
    "        print(\"*       *        *\")\n",
    "    elif x==2:\n",
    "        print(\" *     *  *     * \")\n",
    "    elif x==3:\n",
    "        print(\"  *   *    *   * \")\n",
    "    elif x==4:\n",
    "        print(\"   * *      * *   \")\n",
    "    else:\n",
    "        print(\"    *        *    \")\n",
    "    x=x+1\n",
    "    "
   ]
  },
  {
   "cell_type": "code",
   "execution_count": 113,
   "id": "725db66c",
   "metadata": {},
   "outputs": [
    {
     "name": "stdout",
     "output_type": "stream",
     "text": [
      "*    *\n",
      " * * \n",
      "  *\n",
      " * * \n",
      "*    *\n"
     ]
    }
   ],
   "source": [
    "x=1\n",
    "while x<=5:\n",
    "    if x==1 or x==5:\n",
    "        print(\"*    *\")\n",
    "    elif x==2 or x==4:\n",
    "        print(\" * * \")\n",
    "    else:\n",
    "        print(\"  *\")\n",
    "    x=x+1"
   ]
  },
  {
   "cell_type": "code",
   "execution_count": 114,
   "id": "f96f4ffb",
   "metadata": {},
   "outputs": [
    {
     "name": "stdout",
     "output_type": "stream",
     "text": [
      "*    *\n",
      " *  * \n",
      "  *\n",
      " *\n",
      "*\n"
     ]
    }
   ],
   "source": [
    "x=1\n",
    "while x<=5:\n",
    "    if x==1:\n",
    "        print(\"*    *\")\n",
    "    elif x==2:\n",
    "        print(\" *  * \")\n",
    "    elif x==4:\n",
    "        print(\" *\")\n",
    "    elif x==5:\n",
    "        print(\"*\")\n",
    "    else:\n",
    "        print(\"  *\")\n",
    "    x=x+1"
   ]
  },
  {
   "cell_type": "code",
   "execution_count": 115,
   "id": "f4348884",
   "metadata": {},
   "outputs": [
    {
     "name": "stdout",
     "output_type": "stream",
     "text": [
      "*****\n",
      "   * \n",
      "  *\n",
      " *\n",
      "*****\n"
     ]
    }
   ],
   "source": [
    "x=1\n",
    "while x<=5:\n",
    "    if x==1 or x==5:\n",
    "        print(\"*****\")\n",
    "    elif x==2:\n",
    "        print(\"   * \")\n",
    "    elif x==3:\n",
    "        print(\"  *\")\n",
    "    else:\n",
    "        print(\" *\")\n",
    "    x=x+1"
   ]
  },
  {
   "cell_type": "code",
   "execution_count": null,
   "id": "1db99087",
   "metadata": {},
   "outputs": [],
   "source": []
  }
 ],
 "metadata": {
  "kernelspec": {
   "display_name": "Python 3 (ipykernel)",
   "language": "python",
   "name": "python3"
  },
  "language_info": {
   "codemirror_mode": {
    "name": "ipython",
    "version": 3
   },
   "file_extension": ".py",
   "mimetype": "text/x-python",
   "name": "python",
   "nbconvert_exporter": "python",
   "pygments_lexer": "ipython3",
   "version": "3.9.13"
  }
 },
 "nbformat": 4,
 "nbformat_minor": 5
}
