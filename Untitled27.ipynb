{
 "cells": [
  {
   "cell_type": "code",
   "execution_count": 1,
   "id": "27c0eb4f",
   "metadata": {},
   "outputs": [
    {
     "name": "stdout",
     "output_type": "stream",
     "text": [
      "enter to print lower case alphabets5\n",
      "see you\n"
     ]
    }
   ],
   "source": [
    "#1. Create a python program to print lower case alphabets (a-z) with conditional statement.\n",
    "\n",
    "x=input('enter to print lower case alphabets')\n",
    "if(x=='lower'):\n",
    "    print('a b c d e f g h i j k l m n o p q r s t u v w x y z')\n",
    "else:\n",
    "    print('see you')"
   ]
  },
  {
   "cell_type": "code",
   "execution_count": null,
   "id": "8a3166a2",
   "metadata": {},
   "outputs": [],
   "source": [
    "#2. create a python program to print lower and upper alphabets using looping (while loop and for loop)\n",
    "\n",
    "#by using while loop\n",
    "\n",
    "a=int(input('enter 1 to print lower and 2 to print upper'))\n",
    "while(type(a)==int):\n",
    "    if(a==1):\n",
    "        print('a b c d e f g h i j k l m n o p q r s t u v w x y z')\n",
    "    elif(a==2):\n",
    "        print('A B C D E F G H I J K L M N O P Q R S T U V W X Y Z')\n",
    "    else:\n",
    "        print('bye')\n",
    "    break"
   ]
  },
  {
   "cell_type": "code",
   "execution_count": null,
   "id": "b9c317b0",
   "metadata": {},
   "outputs": [],
   "source": [
    "#by using for loop\n",
    "\n",
    "b=input('enter 1 to print upper and 2 to print lower')\n",
    "for c in b:\n",
    "    if b=='1':\n",
    "        print('A B C D E F G H I J K L M N O P Q R S T U V W X Y Z')\n",
    "    elif b=='2':\n",
    "        print('a b c d e f g h i j k l m n o p q r s t u v w x y z')\n",
    "    else:\n",
    "        print('see you')\n"
   ]
  },
  {
   "cell_type": "code",
   "execution_count": null,
   "id": "6a2cf57b",
   "metadata": {},
   "outputs": [],
   "source": []
  }
 ],
 "metadata": {
  "kernelspec": {
   "display_name": "Python 3 (ipykernel)",
   "language": "python",
   "name": "python3"
  },
  "language_info": {
   "codemirror_mode": {
    "name": "ipython",
    "version": 3
   },
   "file_extension": ".py",
   "mimetype": "text/x-python",
   "name": "python",
   "nbconvert_exporter": "python",
   "pygments_lexer": "ipython3",
   "version": "3.9.13"
  }
 },
 "nbformat": 4,
 "nbformat_minor": 5
}
